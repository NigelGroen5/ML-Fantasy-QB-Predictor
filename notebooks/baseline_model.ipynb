{
 "cells": [
  {
   "cell_type": "markdown",
   "id": "a8adbedc-b115-4863-8da4-0dc6b34bca2a",
   "metadata": {},
   "source": [
    "# QB Fantasy Points Predictor - NIGEL GROEN\n",
    "This notebook contains the model of my Fantasy QB Predictor project:\n",
    "- Define the target variable (weekly fantasy points)\n",
    "- Compute fantasy points from raw stats\n",
    "- Collect and clean data\n",
    "- Engineer features\n",
    "- Build a baseline model\n",
    "- Train and evaluate"
   ]
  }
 ],
 "metadata": {
  "kernelspec": {
   "display_name": "Python 3 (ipykernel)",
   "language": "python",
   "name": "python3"
  },
  "language_info": {
   "codemirror_mode": {
    "name": "ipython",
    "version": 3
   },
   "file_extension": ".py",
   "mimetype": "text/x-python",
   "name": "python",
   "nbconvert_exporter": "python",
   "pygments_lexer": "ipython3",
   "version": "3.12.8"
  }
 },
 "nbformat": 4,
 "nbformat_minor": 5
}
